{
  "nbformat": 4,
  "nbformat_minor": 0,
  "metadata": {
    "colab": {
      "name": "Standardisation.ipynb",
      "provenance": [],
      "collapsed_sections": [],
      "authorship_tag": "ABX9TyOre1x9pTU3b9I/NV25/4R4",
      "include_colab_link": true
    },
    "kernelspec": {
      "name": "python3",
      "display_name": "Python 3"
    },
    "language_info": {
      "name": "python"
    }
  },
  "cells": [
    {
      "cell_type": "markdown",
      "metadata": {
        "id": "view-in-github",
        "colab_type": "text"
      },
      "source": [
        "<a href=\"https://colab.research.google.com/github/rkmaccha/myLearningNotes/blob/main/Standardisation.ipynb\" target=\"_parent\"><img src=\"https://colab.research.google.com/assets/colab-badge.svg\" alt=\"Open In Colab\"/></a>"
      ]
    },
    {
      "cell_type": "code",
      "execution_count": 1,
      "metadata": {
        "id": "Q42QQqTNGztS"
      },
      "outputs": [],
      "source": [
        "import numpy as np\n",
        "import pandas as pd\n",
        "import matplotlib.pyplot as plt\n",
        "import seaborn as sns"
      ]
    },
    {
      "cell_type": "code",
      "source": [
        "from google.colab import drive\n",
        "drive.mount('/content/mydrive')"
      ],
      "metadata": {
        "colab": {
          "base_uri": "https://localhost:8080/"
        },
        "id": "HD5N2ILKIzok",
        "outputId": "0c53813e-758e-464c-bd70-aec01b32d26f"
      },
      "execution_count": 2,
      "outputs": [
        {
          "output_type": "stream",
          "name": "stdout",
          "text": [
            "Mounted at /content/mydrive\n"
          ]
        }
      ]
    },
    {
      "cell_type": "code",
      "source": [
        "df= pd.read_csv('/content/mydrive/MyDrive/MachineLearning_Journey/dataset/Social_Network_Ads.csv')"
      ],
      "metadata": {
        "id": "1YTKpOr0JPhN"
      },
      "execution_count": 3,
      "outputs": []
    },
    {
      "cell_type": "code",
      "source": [
        "df.head()"
      ],
      "metadata": {
        "colab": {
          "base_uri": "https://localhost:8080/",
          "height": 206
        },
        "id": "hPI0H-zeJblP",
        "outputId": "fcc3e5d9-51d0-4ec2-ce3a-b6df20c39d6d"
      },
      "execution_count": 4,
      "outputs": [
        {
          "output_type": "execute_result",
          "data": {
            "text/html": [
              "\n",
              "  <div id=\"df-bbee9a64-3adf-4c20-8e49-fcdc8ae64c05\">\n",
              "    <div class=\"colab-df-container\">\n",
              "      <div>\n",
              "<style scoped>\n",
              "    .dataframe tbody tr th:only-of-type {\n",
              "        vertical-align: middle;\n",
              "    }\n",
              "\n",
              "    .dataframe tbody tr th {\n",
              "        vertical-align: top;\n",
              "    }\n",
              "\n",
              "    .dataframe thead th {\n",
              "        text-align: right;\n",
              "    }\n",
              "</style>\n",
              "<table border=\"1\" class=\"dataframe\">\n",
              "  <thead>\n",
              "    <tr style=\"text-align: right;\">\n",
              "      <th></th>\n",
              "      <th>User ID</th>\n",
              "      <th>Gender</th>\n",
              "      <th>Age</th>\n",
              "      <th>EstimatedSalary</th>\n",
              "      <th>Purchased</th>\n",
              "    </tr>\n",
              "  </thead>\n",
              "  <tbody>\n",
              "    <tr>\n",
              "      <th>0</th>\n",
              "      <td>15624510</td>\n",
              "      <td>Male</td>\n",
              "      <td>19</td>\n",
              "      <td>19000</td>\n",
              "      <td>0</td>\n",
              "    </tr>\n",
              "    <tr>\n",
              "      <th>1</th>\n",
              "      <td>15810944</td>\n",
              "      <td>Male</td>\n",
              "      <td>35</td>\n",
              "      <td>20000</td>\n",
              "      <td>0</td>\n",
              "    </tr>\n",
              "    <tr>\n",
              "      <th>2</th>\n",
              "      <td>15668575</td>\n",
              "      <td>Female</td>\n",
              "      <td>26</td>\n",
              "      <td>43000</td>\n",
              "      <td>0</td>\n",
              "    </tr>\n",
              "    <tr>\n",
              "      <th>3</th>\n",
              "      <td>15603246</td>\n",
              "      <td>Female</td>\n",
              "      <td>27</td>\n",
              "      <td>57000</td>\n",
              "      <td>0</td>\n",
              "    </tr>\n",
              "    <tr>\n",
              "      <th>4</th>\n",
              "      <td>15804002</td>\n",
              "      <td>Male</td>\n",
              "      <td>19</td>\n",
              "      <td>76000</td>\n",
              "      <td>0</td>\n",
              "    </tr>\n",
              "  </tbody>\n",
              "</table>\n",
              "</div>\n",
              "      <button class=\"colab-df-convert\" onclick=\"convertToInteractive('df-bbee9a64-3adf-4c20-8e49-fcdc8ae64c05')\"\n",
              "              title=\"Convert this dataframe to an interactive table.\"\n",
              "              style=\"display:none;\">\n",
              "        \n",
              "  <svg xmlns=\"http://www.w3.org/2000/svg\" height=\"24px\"viewBox=\"0 0 24 24\"\n",
              "       width=\"24px\">\n",
              "    <path d=\"M0 0h24v24H0V0z\" fill=\"none\"/>\n",
              "    <path d=\"M18.56 5.44l.94 2.06.94-2.06 2.06-.94-2.06-.94-.94-2.06-.94 2.06-2.06.94zm-11 1L8.5 8.5l.94-2.06 2.06-.94-2.06-.94L8.5 2.5l-.94 2.06-2.06.94zm10 10l.94 2.06.94-2.06 2.06-.94-2.06-.94-.94-2.06-.94 2.06-2.06.94z\"/><path d=\"M17.41 7.96l-1.37-1.37c-.4-.4-.92-.59-1.43-.59-.52 0-1.04.2-1.43.59L10.3 9.45l-7.72 7.72c-.78.78-.78 2.05 0 2.83L4 21.41c.39.39.9.59 1.41.59.51 0 1.02-.2 1.41-.59l7.78-7.78 2.81-2.81c.8-.78.8-2.07 0-2.86zM5.41 20L4 18.59l7.72-7.72 1.47 1.35L5.41 20z\"/>\n",
              "  </svg>\n",
              "      </button>\n",
              "      \n",
              "  <style>\n",
              "    .colab-df-container {\n",
              "      display:flex;\n",
              "      flex-wrap:wrap;\n",
              "      gap: 12px;\n",
              "    }\n",
              "\n",
              "    .colab-df-convert {\n",
              "      background-color: #E8F0FE;\n",
              "      border: none;\n",
              "      border-radius: 50%;\n",
              "      cursor: pointer;\n",
              "      display: none;\n",
              "      fill: #1967D2;\n",
              "      height: 32px;\n",
              "      padding: 0 0 0 0;\n",
              "      width: 32px;\n",
              "    }\n",
              "\n",
              "    .colab-df-convert:hover {\n",
              "      background-color: #E2EBFA;\n",
              "      box-shadow: 0px 1px 2px rgba(60, 64, 67, 0.3), 0px 1px 3px 1px rgba(60, 64, 67, 0.15);\n",
              "      fill: #174EA6;\n",
              "    }\n",
              "\n",
              "    [theme=dark] .colab-df-convert {\n",
              "      background-color: #3B4455;\n",
              "      fill: #D2E3FC;\n",
              "    }\n",
              "\n",
              "    [theme=dark] .colab-df-convert:hover {\n",
              "      background-color: #434B5C;\n",
              "      box-shadow: 0px 1px 3px 1px rgba(0, 0, 0, 0.15);\n",
              "      filter: drop-shadow(0px 1px 2px rgba(0, 0, 0, 0.3));\n",
              "      fill: #FFFFFF;\n",
              "    }\n",
              "  </style>\n",
              "\n",
              "      <script>\n",
              "        const buttonEl =\n",
              "          document.querySelector('#df-bbee9a64-3adf-4c20-8e49-fcdc8ae64c05 button.colab-df-convert');\n",
              "        buttonEl.style.display =\n",
              "          google.colab.kernel.accessAllowed ? 'block' : 'none';\n",
              "\n",
              "        async function convertToInteractive(key) {\n",
              "          const element = document.querySelector('#df-bbee9a64-3adf-4c20-8e49-fcdc8ae64c05');\n",
              "          const dataTable =\n",
              "            await google.colab.kernel.invokeFunction('convertToInteractive',\n",
              "                                                     [key], {});\n",
              "          if (!dataTable) return;\n",
              "\n",
              "          const docLinkHtml = 'Like what you see? Visit the ' +\n",
              "            '<a target=\"_blank\" href=https://colab.research.google.com/notebooks/data_table.ipynb>data table notebook</a>'\n",
              "            + ' to learn more about interactive tables.';\n",
              "          element.innerHTML = '';\n",
              "          dataTable['output_type'] = 'display_data';\n",
              "          await google.colab.output.renderOutput(dataTable, element);\n",
              "          const docLink = document.createElement('div');\n",
              "          docLink.innerHTML = docLinkHtml;\n",
              "          element.appendChild(docLink);\n",
              "        }\n",
              "      </script>\n",
              "    </div>\n",
              "  </div>\n",
              "  "
            ],
            "text/plain": [
              "    User ID  Gender  Age  EstimatedSalary  Purchased\n",
              "0  15624510    Male   19            19000          0\n",
              "1  15810944    Male   35            20000          0\n",
              "2  15668575  Female   26            43000          0\n",
              "3  15603246  Female   27            57000          0\n",
              "4  15804002    Male   19            76000          0"
            ]
          },
          "metadata": {},
          "execution_count": 4
        }
      ]
    },
    {
      "cell_type": "code",
      "source": [
        "df = df.iloc[ : , 2:]"
      ],
      "metadata": {
        "id": "HsRfp4l6JchO"
      },
      "execution_count": 5,
      "outputs": []
    },
    {
      "cell_type": "code",
      "source": [
        "df.head()"
      ],
      "metadata": {
        "colab": {
          "base_uri": "https://localhost:8080/",
          "height": 206
        },
        "id": "hfiI--LzMmLR",
        "outputId": "82a615de-a855-4b63-eaa4-1521017b27df"
      },
      "execution_count": 6,
      "outputs": [
        {
          "output_type": "execute_result",
          "data": {
            "text/html": [
              "\n",
              "  <div id=\"df-1b3deafc-4fe8-41d5-a580-85cdf5c95bca\">\n",
              "    <div class=\"colab-df-container\">\n",
              "      <div>\n",
              "<style scoped>\n",
              "    .dataframe tbody tr th:only-of-type {\n",
              "        vertical-align: middle;\n",
              "    }\n",
              "\n",
              "    .dataframe tbody tr th {\n",
              "        vertical-align: top;\n",
              "    }\n",
              "\n",
              "    .dataframe thead th {\n",
              "        text-align: right;\n",
              "    }\n",
              "</style>\n",
              "<table border=\"1\" class=\"dataframe\">\n",
              "  <thead>\n",
              "    <tr style=\"text-align: right;\">\n",
              "      <th></th>\n",
              "      <th>Age</th>\n",
              "      <th>EstimatedSalary</th>\n",
              "      <th>Purchased</th>\n",
              "    </tr>\n",
              "  </thead>\n",
              "  <tbody>\n",
              "    <tr>\n",
              "      <th>0</th>\n",
              "      <td>19</td>\n",
              "      <td>19000</td>\n",
              "      <td>0</td>\n",
              "    </tr>\n",
              "    <tr>\n",
              "      <th>1</th>\n",
              "      <td>35</td>\n",
              "      <td>20000</td>\n",
              "      <td>0</td>\n",
              "    </tr>\n",
              "    <tr>\n",
              "      <th>2</th>\n",
              "      <td>26</td>\n",
              "      <td>43000</td>\n",
              "      <td>0</td>\n",
              "    </tr>\n",
              "    <tr>\n",
              "      <th>3</th>\n",
              "      <td>27</td>\n",
              "      <td>57000</td>\n",
              "      <td>0</td>\n",
              "    </tr>\n",
              "    <tr>\n",
              "      <th>4</th>\n",
              "      <td>19</td>\n",
              "      <td>76000</td>\n",
              "      <td>0</td>\n",
              "    </tr>\n",
              "  </tbody>\n",
              "</table>\n",
              "</div>\n",
              "      <button class=\"colab-df-convert\" onclick=\"convertToInteractive('df-1b3deafc-4fe8-41d5-a580-85cdf5c95bca')\"\n",
              "              title=\"Convert this dataframe to an interactive table.\"\n",
              "              style=\"display:none;\">\n",
              "        \n",
              "  <svg xmlns=\"http://www.w3.org/2000/svg\" height=\"24px\"viewBox=\"0 0 24 24\"\n",
              "       width=\"24px\">\n",
              "    <path d=\"M0 0h24v24H0V0z\" fill=\"none\"/>\n",
              "    <path d=\"M18.56 5.44l.94 2.06.94-2.06 2.06-.94-2.06-.94-.94-2.06-.94 2.06-2.06.94zm-11 1L8.5 8.5l.94-2.06 2.06-.94-2.06-.94L8.5 2.5l-.94 2.06-2.06.94zm10 10l.94 2.06.94-2.06 2.06-.94-2.06-.94-.94-2.06-.94 2.06-2.06.94z\"/><path d=\"M17.41 7.96l-1.37-1.37c-.4-.4-.92-.59-1.43-.59-.52 0-1.04.2-1.43.59L10.3 9.45l-7.72 7.72c-.78.78-.78 2.05 0 2.83L4 21.41c.39.39.9.59 1.41.59.51 0 1.02-.2 1.41-.59l7.78-7.78 2.81-2.81c.8-.78.8-2.07 0-2.86zM5.41 20L4 18.59l7.72-7.72 1.47 1.35L5.41 20z\"/>\n",
              "  </svg>\n",
              "      </button>\n",
              "      \n",
              "  <style>\n",
              "    .colab-df-container {\n",
              "      display:flex;\n",
              "      flex-wrap:wrap;\n",
              "      gap: 12px;\n",
              "    }\n",
              "\n",
              "    .colab-df-convert {\n",
              "      background-color: #E8F0FE;\n",
              "      border: none;\n",
              "      border-radius: 50%;\n",
              "      cursor: pointer;\n",
              "      display: none;\n",
              "      fill: #1967D2;\n",
              "      height: 32px;\n",
              "      padding: 0 0 0 0;\n",
              "      width: 32px;\n",
              "    }\n",
              "\n",
              "    .colab-df-convert:hover {\n",
              "      background-color: #E2EBFA;\n",
              "      box-shadow: 0px 1px 2px rgba(60, 64, 67, 0.3), 0px 1px 3px 1px rgba(60, 64, 67, 0.15);\n",
              "      fill: #174EA6;\n",
              "    }\n",
              "\n",
              "    [theme=dark] .colab-df-convert {\n",
              "      background-color: #3B4455;\n",
              "      fill: #D2E3FC;\n",
              "    }\n",
              "\n",
              "    [theme=dark] .colab-df-convert:hover {\n",
              "      background-color: #434B5C;\n",
              "      box-shadow: 0px 1px 3px 1px rgba(0, 0, 0, 0.15);\n",
              "      filter: drop-shadow(0px 1px 2px rgba(0, 0, 0, 0.3));\n",
              "      fill: #FFFFFF;\n",
              "    }\n",
              "  </style>\n",
              "\n",
              "      <script>\n",
              "        const buttonEl =\n",
              "          document.querySelector('#df-1b3deafc-4fe8-41d5-a580-85cdf5c95bca button.colab-df-convert');\n",
              "        buttonEl.style.display =\n",
              "          google.colab.kernel.accessAllowed ? 'block' : 'none';\n",
              "\n",
              "        async function convertToInteractive(key) {\n",
              "          const element = document.querySelector('#df-1b3deafc-4fe8-41d5-a580-85cdf5c95bca');\n",
              "          const dataTable =\n",
              "            await google.colab.kernel.invokeFunction('convertToInteractive',\n",
              "                                                     [key], {});\n",
              "          if (!dataTable) return;\n",
              "\n",
              "          const docLinkHtml = 'Like what you see? Visit the ' +\n",
              "            '<a target=\"_blank\" href=https://colab.research.google.com/notebooks/data_table.ipynb>data table notebook</a>'\n",
              "            + ' to learn more about interactive tables.';\n",
              "          element.innerHTML = '';\n",
              "          dataTable['output_type'] = 'display_data';\n",
              "          await google.colab.output.renderOutput(dataTable, element);\n",
              "          const docLink = document.createElement('div');\n",
              "          docLink.innerHTML = docLinkHtml;\n",
              "          element.appendChild(docLink);\n",
              "        }\n",
              "      </script>\n",
              "    </div>\n",
              "  </div>\n",
              "  "
            ],
            "text/plain": [
              "   Age  EstimatedSalary  Purchased\n",
              "0   19            19000          0\n",
              "1   35            20000          0\n",
              "2   26            43000          0\n",
              "3   27            57000          0\n",
              "4   19            76000          0"
            ]
          },
          "metadata": {},
          "execution_count": 6
        }
      ]
    },
    {
      "cell_type": "code",
      "source": [
        "X= df.iloc[ : , :-1]\n",
        "y= df.iloc[ : ,-1]"
      ],
      "metadata": {
        "id": "ZQ4kd3lzNPHx"
      },
      "execution_count": 7,
      "outputs": []
    },
    {
      "cell_type": "code",
      "source": [
        "X.shape"
      ],
      "metadata": {
        "colab": {
          "base_uri": "https://localhost:8080/"
        },
        "id": "FD6ghTHRMmOW",
        "outputId": "b2ec323b-9229-4c8a-9ece-636236d5b98b"
      },
      "execution_count": 8,
      "outputs": [
        {
          "output_type": "execute_result",
          "data": {
            "text/plain": [
              "(400, 2)"
            ]
          },
          "metadata": {},
          "execution_count": 8
        }
      ]
    },
    {
      "cell_type": "code",
      "source": [
        "y.shape"
      ],
      "metadata": {
        "colab": {
          "base_uri": "https://localhost:8080/"
        },
        "id": "Q2PCbWn_MmR3",
        "outputId": "1d788b4c-a8b1-466d-df88-6d1a57ab8969"
      },
      "execution_count": 9,
      "outputs": [
        {
          "output_type": "execute_result",
          "data": {
            "text/plain": [
              "(400,)"
            ]
          },
          "metadata": {},
          "execution_count": 9
        }
      ]
    },
    {
      "cell_type": "code",
      "source": [
        "from sklearn.model_selection import train_test_split\n",
        "X_train,X_test,y_train,y_test = train_test_split(X,y,test_size=0.3,random_state=0)"
      ],
      "metadata": {
        "id": "HSKSc8yiJkXz"
      },
      "execution_count": 10,
      "outputs": []
    },
    {
      "cell_type": "code",
      "source": [
        "X_train.shape"
      ],
      "metadata": {
        "colab": {
          "base_uri": "https://localhost:8080/"
        },
        "id": "rmyY3QBFNsS7",
        "outputId": "21c49780-8b0f-482d-fb7d-18e8e77fdb0e"
      },
      "execution_count": 11,
      "outputs": [
        {
          "output_type": "execute_result",
          "data": {
            "text/plain": [
              "(280, 2)"
            ]
          },
          "metadata": {},
          "execution_count": 11
        }
      ]
    },
    {
      "cell_type": "code",
      "source": [
        "X_test.shape"
      ],
      "metadata": {
        "colab": {
          "base_uri": "https://localhost:8080/"
        },
        "id": "REQKcw5GNuC4",
        "outputId": "4c0c3b1e-e895-4caf-eed9-0639c1786442"
      },
      "execution_count": 12,
      "outputs": [
        {
          "output_type": "execute_result",
          "data": {
            "text/plain": [
              "(120, 2)"
            ]
          },
          "metadata": {},
          "execution_count": 12
        }
      ]
    },
    {
      "cell_type": "code",
      "source": [
        "y_train.shape"
      ],
      "metadata": {
        "colab": {
          "base_uri": "https://localhost:8080/"
        },
        "id": "3Xdc3nu4NvqQ",
        "outputId": "e193de04-eacd-42e2-e878-e13557375ee2"
      },
      "execution_count": 13,
      "outputs": [
        {
          "output_type": "execute_result",
          "data": {
            "text/plain": [
              "(280,)"
            ]
          },
          "metadata": {},
          "execution_count": 13
        }
      ]
    },
    {
      "cell_type": "code",
      "source": [
        "y_test.shape"
      ],
      "metadata": {
        "colab": {
          "base_uri": "https://localhost:8080/"
        },
        "id": "PacsqaucN2dH",
        "outputId": "9b223408-c605-4d5f-f740-c241dde9be78"
      },
      "execution_count": 14,
      "outputs": [
        {
          "output_type": "execute_result",
          "data": {
            "text/plain": [
              "(120,)"
            ]
          },
          "metadata": {},
          "execution_count": 14
        }
      ]
    },
    {
      "cell_type": "markdown",
      "source": [
        "### Standard Scalar -> Standardize features by removing the mean and scaling to unit variance. Centering and scaling happen independently on each feature.\n",
        "Mean = 0 <br>\n",
        "Standard Deviation = 1"
      ],
      "metadata": {
        "id": "U3dRpq7VODq5"
      }
    },
    {
      "cell_type": "markdown",
      "source": [
        "![image.png](data:image/png;base64,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)"
      ],
      "metadata": {
        "id": "EtqKV-VnPRrF"
      }
    },
    {
      "cell_type": "code",
      "source": [
        "from sklearn.preprocessing import StandardScaler"
      ],
      "metadata": {
        "id": "euAINb2XN4LA"
      },
      "execution_count": 15,
      "outputs": []
    },
    {
      "cell_type": "code",
      "source": [
        "scalar= StandardScaler()"
      ],
      "metadata": {
        "id": "KTRlxeMAPg2o"
      },
      "execution_count": 16,
      "outputs": []
    },
    {
      "cell_type": "markdown",
      "source": [
        "We train the StandardScaler with the training data, and later transform both training and test data"
      ],
      "metadata": {
        "id": "R8NEqcZ0PoGH"
      }
    },
    {
      "cell_type": "code",
      "source": [
        "scalar.fit(X_train)"
      ],
      "metadata": {
        "colab": {
          "base_uri": "https://localhost:8080/"
        },
        "id": "UK3lPjLkPi_j",
        "outputId": "f1081fd6-fd3b-48fa-d29b-518fac8e9eb6"
      },
      "execution_count": 17,
      "outputs": [
        {
          "output_type": "execute_result",
          "data": {
            "text/plain": [
              "StandardScaler()"
            ]
          },
          "metadata": {},
          "execution_count": 17
        }
      ]
    },
    {
      "cell_type": "code",
      "source": [
        "X_train_Scaled = scalar.transform(X_train)\n",
        "X_test_Scaled = scalar.transform(X_test)"
      ],
      "metadata": {
        "id": "QworgKBzPmgT"
      },
      "execution_count": 18,
      "outputs": []
    },
    {
      "cell_type": "code",
      "source": [
        "X_train.shape"
      ],
      "metadata": {
        "colab": {
          "base_uri": "https://localhost:8080/"
        },
        "id": "m3dkvelLQMre",
        "outputId": "60821129-5b87-4f50-bb14-98bac105a54b"
      },
      "execution_count": 19,
      "outputs": [
        {
          "output_type": "execute_result",
          "data": {
            "text/plain": [
              "(280, 2)"
            ]
          },
          "metadata": {},
          "execution_count": 19
        }
      ]
    },
    {
      "cell_type": "code",
      "source": [
        "scalar.mean_"
      ],
      "metadata": {
        "colab": {
          "base_uri": "https://localhost:8080/"
        },
        "id": "nCuy7wfEP4ir",
        "outputId": "239bddc4-6258-4331-d489-0c08d162c1e4"
      },
      "execution_count": 20,
      "outputs": [
        {
          "output_type": "execute_result",
          "data": {
            "text/plain": [
              "array([3.78642857e+01, 6.98071429e+04])"
            ]
          },
          "metadata": {},
          "execution_count": 20
        }
      ]
    },
    {
      "cell_type": "code",
      "source": [
        "scalar.var_ # squareroot of variance is standard deviation"
      ],
      "metadata": {
        "colab": {
          "base_uri": "https://localhost:8080/"
        },
        "id": "qqdj9FzXQI8g",
        "outputId": "2212dd8b-b5c2-4ae7-b300-e2d86b846079"
      },
      "execution_count": 21,
      "outputs": [
        {
          "output_type": "execute_result",
          "data": {
            "text/plain": [
              "array([1.04038724e+02, 1.19572709e+09])"
            ]
          },
          "metadata": {},
          "execution_count": 21
        }
      ]
    },
    {
      "cell_type": "markdown",
      "source": [
        "The data converts into numpy array after transforming the data using StandardScaler  <br>\n",
        "We can convert back the data to Dataframe"
      ],
      "metadata": {
        "id": "h9Hi4UNoRCSo"
      }
    },
    {
      "cell_type": "code",
      "source": [
        "X_train_Scaled = pd.DataFrame(X_train_Scaled, columns=X_train.columns)\n",
        "X_test_Scaled = pd.DataFrame(X_test_Scaled, columns=X_test.columns)"
      ],
      "metadata": {
        "id": "98w-SSzmQjkE"
      },
      "execution_count": 22,
      "outputs": []
    },
    {
      "cell_type": "code",
      "source": [
        "X_train_Scaled.head()"
      ],
      "metadata": {
        "colab": {
          "base_uri": "https://localhost:8080/",
          "height": 206
        },
        "id": "YKBbyzuiQyon",
        "outputId": "ef8c1eff-2a13-4540-87a8-a7efcf0bd44e"
      },
      "execution_count": 23,
      "outputs": [
        {
          "output_type": "execute_result",
          "data": {
            "text/html": [
              "\n",
              "  <div id=\"df-e22c5f3b-8720-45f1-a14f-b864b4e115f8\">\n",
              "    <div class=\"colab-df-container\">\n",
              "      <div>\n",
              "<style scoped>\n",
              "    .dataframe tbody tr th:only-of-type {\n",
              "        vertical-align: middle;\n",
              "    }\n",
              "\n",
              "    .dataframe tbody tr th {\n",
              "        vertical-align: top;\n",
              "    }\n",
              "\n",
              "    .dataframe thead th {\n",
              "        text-align: right;\n",
              "    }\n",
              "</style>\n",
              "<table border=\"1\" class=\"dataframe\">\n",
              "  <thead>\n",
              "    <tr style=\"text-align: right;\">\n",
              "      <th></th>\n",
              "      <th>Age</th>\n",
              "      <th>EstimatedSalary</th>\n",
              "    </tr>\n",
              "  </thead>\n",
              "  <tbody>\n",
              "    <tr>\n",
              "      <th>0</th>\n",
              "      <td>-1.163172</td>\n",
              "      <td>-1.584970</td>\n",
              "    </tr>\n",
              "    <tr>\n",
              "      <th>1</th>\n",
              "      <td>2.170181</td>\n",
              "      <td>0.930987</td>\n",
              "    </tr>\n",
              "    <tr>\n",
              "      <th>2</th>\n",
              "      <td>0.013305</td>\n",
              "      <td>1.220177</td>\n",
              "    </tr>\n",
              "    <tr>\n",
              "      <th>3</th>\n",
              "      <td>0.209385</td>\n",
              "      <td>1.075582</td>\n",
              "    </tr>\n",
              "    <tr>\n",
              "      <th>4</th>\n",
              "      <td>0.405465</td>\n",
              "      <td>-0.486047</td>\n",
              "    </tr>\n",
              "  </tbody>\n",
              "</table>\n",
              "</div>\n",
              "      <button class=\"colab-df-convert\" onclick=\"convertToInteractive('df-e22c5f3b-8720-45f1-a14f-b864b4e115f8')\"\n",
              "              title=\"Convert this dataframe to an interactive table.\"\n",
              "              style=\"display:none;\">\n",
              "        \n",
              "  <svg xmlns=\"http://www.w3.org/2000/svg\" height=\"24px\"viewBox=\"0 0 24 24\"\n",
              "       width=\"24px\">\n",
              "    <path d=\"M0 0h24v24H0V0z\" fill=\"none\"/>\n",
              "    <path d=\"M18.56 5.44l.94 2.06.94-2.06 2.06-.94-2.06-.94-.94-2.06-.94 2.06-2.06.94zm-11 1L8.5 8.5l.94-2.06 2.06-.94-2.06-.94L8.5 2.5l-.94 2.06-2.06.94zm10 10l.94 2.06.94-2.06 2.06-.94-2.06-.94-.94-2.06-.94 2.06-2.06.94z\"/><path d=\"M17.41 7.96l-1.37-1.37c-.4-.4-.92-.59-1.43-.59-.52 0-1.04.2-1.43.59L10.3 9.45l-7.72 7.72c-.78.78-.78 2.05 0 2.83L4 21.41c.39.39.9.59 1.41.59.51 0 1.02-.2 1.41-.59l7.78-7.78 2.81-2.81c.8-.78.8-2.07 0-2.86zM5.41 20L4 18.59l7.72-7.72 1.47 1.35L5.41 20z\"/>\n",
              "  </svg>\n",
              "      </button>\n",
              "      \n",
              "  <style>\n",
              "    .colab-df-container {\n",
              "      display:flex;\n",
              "      flex-wrap:wrap;\n",
              "      gap: 12px;\n",
              "    }\n",
              "\n",
              "    .colab-df-convert {\n",
              "      background-color: #E8F0FE;\n",
              "      border: none;\n",
              "      border-radius: 50%;\n",
              "      cursor: pointer;\n",
              "      display: none;\n",
              "      fill: #1967D2;\n",
              "      height: 32px;\n",
              "      padding: 0 0 0 0;\n",
              "      width: 32px;\n",
              "    }\n",
              "\n",
              "    .colab-df-convert:hover {\n",
              "      background-color: #E2EBFA;\n",
              "      box-shadow: 0px 1px 2px rgba(60, 64, 67, 0.3), 0px 1px 3px 1px rgba(60, 64, 67, 0.15);\n",
              "      fill: #174EA6;\n",
              "    }\n",
              "\n",
              "    [theme=dark] .colab-df-convert {\n",
              "      background-color: #3B4455;\n",
              "      fill: #D2E3FC;\n",
              "    }\n",
              "\n",
              "    [theme=dark] .colab-df-convert:hover {\n",
              "      background-color: #434B5C;\n",
              "      box-shadow: 0px 1px 3px 1px rgba(0, 0, 0, 0.15);\n",
              "      filter: drop-shadow(0px 1px 2px rgba(0, 0, 0, 0.3));\n",
              "      fill: #FFFFFF;\n",
              "    }\n",
              "  </style>\n",
              "\n",
              "      <script>\n",
              "        const buttonEl =\n",
              "          document.querySelector('#df-e22c5f3b-8720-45f1-a14f-b864b4e115f8 button.colab-df-convert');\n",
              "        buttonEl.style.display =\n",
              "          google.colab.kernel.accessAllowed ? 'block' : 'none';\n",
              "\n",
              "        async function convertToInteractive(key) {\n",
              "          const element = document.querySelector('#df-e22c5f3b-8720-45f1-a14f-b864b4e115f8');\n",
              "          const dataTable =\n",
              "            await google.colab.kernel.invokeFunction('convertToInteractive',\n",
              "                                                     [key], {});\n",
              "          if (!dataTable) return;\n",
              "\n",
              "          const docLinkHtml = 'Like what you see? Visit the ' +\n",
              "            '<a target=\"_blank\" href=https://colab.research.google.com/notebooks/data_table.ipynb>data table notebook</a>'\n",
              "            + ' to learn more about interactive tables.';\n",
              "          element.innerHTML = '';\n",
              "          dataTable['output_type'] = 'display_data';\n",
              "          await google.colab.output.renderOutput(dataTable, element);\n",
              "          const docLink = document.createElement('div');\n",
              "          docLink.innerHTML = docLinkHtml;\n",
              "          element.appendChild(docLink);\n",
              "        }\n",
              "      </script>\n",
              "    </div>\n",
              "  </div>\n",
              "  "
            ],
            "text/plain": [
              "        Age  EstimatedSalary\n",
              "0 -1.163172        -1.584970\n",
              "1  2.170181         0.930987\n",
              "2  0.013305         1.220177\n",
              "3  0.209385         1.075582\n",
              "4  0.405465        -0.486047"
            ]
          },
          "metadata": {},
          "execution_count": 23
        }
      ]
    },
    {
      "cell_type": "code",
      "source": [
        "X_train_Scaled.describe()"
      ],
      "metadata": {
        "colab": {
          "base_uri": "https://localhost:8080/",
          "height": 300
        },
        "id": "XYYHrD0zRqFB",
        "outputId": "160417fa-3c29-491c-eb3e-a2fc3e66e2f3"
      },
      "execution_count": 24,
      "outputs": [
        {
          "output_type": "execute_result",
          "data": {
            "text/html": [
              "\n",
              "  <div id=\"df-179f92b2-e7a5-40e2-8ecc-2fb7dfb65991\">\n",
              "    <div class=\"colab-df-container\">\n",
              "      <div>\n",
              "<style scoped>\n",
              "    .dataframe tbody tr th:only-of-type {\n",
              "        vertical-align: middle;\n",
              "    }\n",
              "\n",
              "    .dataframe tbody tr th {\n",
              "        vertical-align: top;\n",
              "    }\n",
              "\n",
              "    .dataframe thead th {\n",
              "        text-align: right;\n",
              "    }\n",
              "</style>\n",
              "<table border=\"1\" class=\"dataframe\">\n",
              "  <thead>\n",
              "    <tr style=\"text-align: right;\">\n",
              "      <th></th>\n",
              "      <th>Age</th>\n",
              "      <th>EstimatedSalary</th>\n",
              "    </tr>\n",
              "  </thead>\n",
              "  <tbody>\n",
              "    <tr>\n",
              "      <th>count</th>\n",
              "      <td>2.800000e+02</td>\n",
              "      <td>2.800000e+02</td>\n",
              "    </tr>\n",
              "    <tr>\n",
              "      <th>mean</th>\n",
              "      <td>4.282289e-17</td>\n",
              "      <td>5.075305e-17</td>\n",
              "    </tr>\n",
              "    <tr>\n",
              "      <th>std</th>\n",
              "      <td>1.001791e+00</td>\n",
              "      <td>1.001791e+00</td>\n",
              "    </tr>\n",
              "    <tr>\n",
              "      <th>min</th>\n",
              "      <td>-1.947491e+00</td>\n",
              "      <td>-1.584970e+00</td>\n",
              "    </tr>\n",
              "    <tr>\n",
              "      <th>25%</th>\n",
              "      <td>-7.710131e-01</td>\n",
              "      <td>-7.752370e-01</td>\n",
              "    </tr>\n",
              "    <tr>\n",
              "      <th>50%</th>\n",
              "      <td>-8.473441e-02</td>\n",
              "      <td>2.003677e-02</td>\n",
              "    </tr>\n",
              "    <tr>\n",
              "      <th>75%</th>\n",
              "      <td>7.976239e-01</td>\n",
              "      <td>5.261201e-01</td>\n",
              "    </tr>\n",
              "    <tr>\n",
              "      <th>max</th>\n",
              "      <td>2.170181e+00</td>\n",
              "      <td>2.319101e+00</td>\n",
              "    </tr>\n",
              "  </tbody>\n",
              "</table>\n",
              "</div>\n",
              "      <button class=\"colab-df-convert\" onclick=\"convertToInteractive('df-179f92b2-e7a5-40e2-8ecc-2fb7dfb65991')\"\n",
              "              title=\"Convert this dataframe to an interactive table.\"\n",
              "              style=\"display:none;\">\n",
              "        \n",
              "  <svg xmlns=\"http://www.w3.org/2000/svg\" height=\"24px\"viewBox=\"0 0 24 24\"\n",
              "       width=\"24px\">\n",
              "    <path d=\"M0 0h24v24H0V0z\" fill=\"none\"/>\n",
              "    <path d=\"M18.56 5.44l.94 2.06.94-2.06 2.06-.94-2.06-.94-.94-2.06-.94 2.06-2.06.94zm-11 1L8.5 8.5l.94-2.06 2.06-.94-2.06-.94L8.5 2.5l-.94 2.06-2.06.94zm10 10l.94 2.06.94-2.06 2.06-.94-2.06-.94-.94-2.06-.94 2.06-2.06.94z\"/><path d=\"M17.41 7.96l-1.37-1.37c-.4-.4-.92-.59-1.43-.59-.52 0-1.04.2-1.43.59L10.3 9.45l-7.72 7.72c-.78.78-.78 2.05 0 2.83L4 21.41c.39.39.9.59 1.41.59.51 0 1.02-.2 1.41-.59l7.78-7.78 2.81-2.81c.8-.78.8-2.07 0-2.86zM5.41 20L4 18.59l7.72-7.72 1.47 1.35L5.41 20z\"/>\n",
              "  </svg>\n",
              "      </button>\n",
              "      \n",
              "  <style>\n",
              "    .colab-df-container {\n",
              "      display:flex;\n",
              "      flex-wrap:wrap;\n",
              "      gap: 12px;\n",
              "    }\n",
              "\n",
              "    .colab-df-convert {\n",
              "      background-color: #E8F0FE;\n",
              "      border: none;\n",
              "      border-radius: 50%;\n",
              "      cursor: pointer;\n",
              "      display: none;\n",
              "      fill: #1967D2;\n",
              "      height: 32px;\n",
              "      padding: 0 0 0 0;\n",
              "      width: 32px;\n",
              "    }\n",
              "\n",
              "    .colab-df-convert:hover {\n",
              "      background-color: #E2EBFA;\n",
              "      box-shadow: 0px 1px 2px rgba(60, 64, 67, 0.3), 0px 1px 3px 1px rgba(60, 64, 67, 0.15);\n",
              "      fill: #174EA6;\n",
              "    }\n",
              "\n",
              "    [theme=dark] .colab-df-convert {\n",
              "      background-color: #3B4455;\n",
              "      fill: #D2E3FC;\n",
              "    }\n",
              "\n",
              "    [theme=dark] .colab-df-convert:hover {\n",
              "      background-color: #434B5C;\n",
              "      box-shadow: 0px 1px 3px 1px rgba(0, 0, 0, 0.15);\n",
              "      filter: drop-shadow(0px 1px 2px rgba(0, 0, 0, 0.3));\n",
              "      fill: #FFFFFF;\n",
              "    }\n",
              "  </style>\n",
              "\n",
              "      <script>\n",
              "        const buttonEl =\n",
              "          document.querySelector('#df-179f92b2-e7a5-40e2-8ecc-2fb7dfb65991 button.colab-df-convert');\n",
              "        buttonEl.style.display =\n",
              "          google.colab.kernel.accessAllowed ? 'block' : 'none';\n",
              "\n",
              "        async function convertToInteractive(key) {\n",
              "          const element = document.querySelector('#df-179f92b2-e7a5-40e2-8ecc-2fb7dfb65991');\n",
              "          const dataTable =\n",
              "            await google.colab.kernel.invokeFunction('convertToInteractive',\n",
              "                                                     [key], {});\n",
              "          if (!dataTable) return;\n",
              "\n",
              "          const docLinkHtml = 'Like what you see? Visit the ' +\n",
              "            '<a target=\"_blank\" href=https://colab.research.google.com/notebooks/data_table.ipynb>data table notebook</a>'\n",
              "            + ' to learn more about interactive tables.';\n",
              "          element.innerHTML = '';\n",
              "          dataTable['output_type'] = 'display_data';\n",
              "          await google.colab.output.renderOutput(dataTable, element);\n",
              "          const docLink = document.createElement('div');\n",
              "          docLink.innerHTML = docLinkHtml;\n",
              "          element.appendChild(docLink);\n",
              "        }\n",
              "      </script>\n",
              "    </div>\n",
              "  </div>\n",
              "  "
            ],
            "text/plain": [
              "                Age  EstimatedSalary\n",
              "count  2.800000e+02     2.800000e+02\n",
              "mean   4.282289e-17     5.075305e-17\n",
              "std    1.001791e+00     1.001791e+00\n",
              "min   -1.947491e+00    -1.584970e+00\n",
              "25%   -7.710131e-01    -7.752370e-01\n",
              "50%   -8.473441e-02     2.003677e-02\n",
              "75%    7.976239e-01     5.261201e-01\n",
              "max    2.170181e+00     2.319101e+00"
            ]
          },
          "metadata": {},
          "execution_count": 24
        }
      ]
    },
    {
      "cell_type": "code",
      "source": [
        "np.round(X_train_Scaled.describe(),1)"
      ],
      "metadata": {
        "colab": {
          "base_uri": "https://localhost:8080/",
          "height": 300
        },
        "id": "u6W9DpSASIiU",
        "outputId": "f04a9f83-f5f8-4e10-f5b6-b7dcabacbbc4"
      },
      "execution_count": 25,
      "outputs": [
        {
          "output_type": "execute_result",
          "data": {
            "text/html": [
              "\n",
              "  <div id=\"df-18783051-00c3-4ff0-9e5c-cf3bb2c4d367\">\n",
              "    <div class=\"colab-df-container\">\n",
              "      <div>\n",
              "<style scoped>\n",
              "    .dataframe tbody tr th:only-of-type {\n",
              "        vertical-align: middle;\n",
              "    }\n",
              "\n",
              "    .dataframe tbody tr th {\n",
              "        vertical-align: top;\n",
              "    }\n",
              "\n",
              "    .dataframe thead th {\n",
              "        text-align: right;\n",
              "    }\n",
              "</style>\n",
              "<table border=\"1\" class=\"dataframe\">\n",
              "  <thead>\n",
              "    <tr style=\"text-align: right;\">\n",
              "      <th></th>\n",
              "      <th>Age</th>\n",
              "      <th>EstimatedSalary</th>\n",
              "    </tr>\n",
              "  </thead>\n",
              "  <tbody>\n",
              "    <tr>\n",
              "      <th>count</th>\n",
              "      <td>280.0</td>\n",
              "      <td>280.0</td>\n",
              "    </tr>\n",
              "    <tr>\n",
              "      <th>mean</th>\n",
              "      <td>0.0</td>\n",
              "      <td>0.0</td>\n",
              "    </tr>\n",
              "    <tr>\n",
              "      <th>std</th>\n",
              "      <td>1.0</td>\n",
              "      <td>1.0</td>\n",
              "    </tr>\n",
              "    <tr>\n",
              "      <th>min</th>\n",
              "      <td>-1.9</td>\n",
              "      <td>-1.6</td>\n",
              "    </tr>\n",
              "    <tr>\n",
              "      <th>25%</th>\n",
              "      <td>-0.8</td>\n",
              "      <td>-0.8</td>\n",
              "    </tr>\n",
              "    <tr>\n",
              "      <th>50%</th>\n",
              "      <td>-0.1</td>\n",
              "      <td>0.0</td>\n",
              "    </tr>\n",
              "    <tr>\n",
              "      <th>75%</th>\n",
              "      <td>0.8</td>\n",
              "      <td>0.5</td>\n",
              "    </tr>\n",
              "    <tr>\n",
              "      <th>max</th>\n",
              "      <td>2.2</td>\n",
              "      <td>2.3</td>\n",
              "    </tr>\n",
              "  </tbody>\n",
              "</table>\n",
              "</div>\n",
              "      <button class=\"colab-df-convert\" onclick=\"convertToInteractive('df-18783051-00c3-4ff0-9e5c-cf3bb2c4d367')\"\n",
              "              title=\"Convert this dataframe to an interactive table.\"\n",
              "              style=\"display:none;\">\n",
              "        \n",
              "  <svg xmlns=\"http://www.w3.org/2000/svg\" height=\"24px\"viewBox=\"0 0 24 24\"\n",
              "       width=\"24px\">\n",
              "    <path d=\"M0 0h24v24H0V0z\" fill=\"none\"/>\n",
              "    <path d=\"M18.56 5.44l.94 2.06.94-2.06 2.06-.94-2.06-.94-.94-2.06-.94 2.06-2.06.94zm-11 1L8.5 8.5l.94-2.06 2.06-.94-2.06-.94L8.5 2.5l-.94 2.06-2.06.94zm10 10l.94 2.06.94-2.06 2.06-.94-2.06-.94-.94-2.06-.94 2.06-2.06.94z\"/><path d=\"M17.41 7.96l-1.37-1.37c-.4-.4-.92-.59-1.43-.59-.52 0-1.04.2-1.43.59L10.3 9.45l-7.72 7.72c-.78.78-.78 2.05 0 2.83L4 21.41c.39.39.9.59 1.41.59.51 0 1.02-.2 1.41-.59l7.78-7.78 2.81-2.81c.8-.78.8-2.07 0-2.86zM5.41 20L4 18.59l7.72-7.72 1.47 1.35L5.41 20z\"/>\n",
              "  </svg>\n",
              "      </button>\n",
              "      \n",
              "  <style>\n",
              "    .colab-df-container {\n",
              "      display:flex;\n",
              "      flex-wrap:wrap;\n",
              "      gap: 12px;\n",
              "    }\n",
              "\n",
              "    .colab-df-convert {\n",
              "      background-color: #E8F0FE;\n",
              "      border: none;\n",
              "      border-radius: 50%;\n",
              "      cursor: pointer;\n",
              "      display: none;\n",
              "      fill: #1967D2;\n",
              "      height: 32px;\n",
              "      padding: 0 0 0 0;\n",
              "      width: 32px;\n",
              "    }\n",
              "\n",
              "    .colab-df-convert:hover {\n",
              "      background-color: #E2EBFA;\n",
              "      box-shadow: 0px 1px 2px rgba(60, 64, 67, 0.3), 0px 1px 3px 1px rgba(60, 64, 67, 0.15);\n",
              "      fill: #174EA6;\n",
              "    }\n",
              "\n",
              "    [theme=dark] .colab-df-convert {\n",
              "      background-color: #3B4455;\n",
              "      fill: #D2E3FC;\n",
              "    }\n",
              "\n",
              "    [theme=dark] .colab-df-convert:hover {\n",
              "      background-color: #434B5C;\n",
              "      box-shadow: 0px 1px 3px 1px rgba(0, 0, 0, 0.15);\n",
              "      filter: drop-shadow(0px 1px 2px rgba(0, 0, 0, 0.3));\n",
              "      fill: #FFFFFF;\n",
              "    }\n",
              "  </style>\n",
              "\n",
              "      <script>\n",
              "        const buttonEl =\n",
              "          document.querySelector('#df-18783051-00c3-4ff0-9e5c-cf3bb2c4d367 button.colab-df-convert');\n",
              "        buttonEl.style.display =\n",
              "          google.colab.kernel.accessAllowed ? 'block' : 'none';\n",
              "\n",
              "        async function convertToInteractive(key) {\n",
              "          const element = document.querySelector('#df-18783051-00c3-4ff0-9e5c-cf3bb2c4d367');\n",
              "          const dataTable =\n",
              "            await google.colab.kernel.invokeFunction('convertToInteractive',\n",
              "                                                     [key], {});\n",
              "          if (!dataTable) return;\n",
              "\n",
              "          const docLinkHtml = 'Like what you see? Visit the ' +\n",
              "            '<a target=\"_blank\" href=https://colab.research.google.com/notebooks/data_table.ipynb>data table notebook</a>'\n",
              "            + ' to learn more about interactive tables.';\n",
              "          element.innerHTML = '';\n",
              "          dataTable['output_type'] = 'display_data';\n",
              "          await google.colab.output.renderOutput(dataTable, element);\n",
              "          const docLink = document.createElement('div');\n",
              "          docLink.innerHTML = docLinkHtml;\n",
              "          element.appendChild(docLink);\n",
              "        }\n",
              "      </script>\n",
              "    </div>\n",
              "  </div>\n",
              "  "
            ],
            "text/plain": [
              "         Age  EstimatedSalary\n",
              "count  280.0            280.0\n",
              "mean     0.0              0.0\n",
              "std      1.0              1.0\n",
              "min     -1.9             -1.6\n",
              "25%     -0.8             -0.8\n",
              "50%     -0.1              0.0\n",
              "75%      0.8              0.5\n",
              "max      2.2              2.3"
            ]
          },
          "metadata": {},
          "execution_count": 25
        }
      ]
    },
    {
      "cell_type": "markdown",
      "source": [
        "### Visualise the Effects -> Before and After the scaling"
      ],
      "metadata": {
        "id": "MFtjApTxSpiE"
      }
    },
    {
      "cell_type": "code",
      "source": [
        "fig, axes = plt.subplots(nrows=1,ncols=2, figsize=(10,5))"
      ],
      "metadata": {
        "colab": {
          "base_uri": "https://localhost:8080/",
          "height": 324
        },
        "id": "SL9WLlusSP40",
        "outputId": "f38c9960-f683-4e1c-e4eb-bd431f91a390"
      },
      "execution_count": 26,
      "outputs": [
        {
          "output_type": "display_data",
          "data": {
            "image/png": "[encoded data removed]",
            "text/plain": [
              "<Figure size 720x360 with 2 Axes>"
            ]
          },
          "metadata": {
            "needs_background": "light"
          }
        }
      ]
    },
    {
      "cell_type": "code",
      "source": [
        "fig, axes = plt.subplots(nrows=1,ncols=2, figsize=(10,5))\n",
        "#=======================================================\n",
        "axes[0].set_title(\"Before Scaling\")\n",
        "axes[0].scatter(X_train['Age'],X_train['EstimatedSalary'])\n",
        "#=======================================================\n",
        "axes[1].set_title(\"After Scaling\")\n",
        "axes[1].scatter(X_train_Scaled['Age'],X_train_Scaled['EstimatedSalary'],color= 'red')\n",
        "#=======================================================\n",
        "plt.show()"
      ],
      "metadata": {
        "colab": {
          "base_uri": "https://localhost:8080/",
          "height": 336
        },
        "id": "r9mpVpxmSwvM",
        "outputId": "69681700-ee7b-4ddc-9828-ea5629c52683"
      },
      "execution_count": 27,
      "outputs": [
        {
          "output_type": "display_data",
          "data": {
            "image/png": "[encoded data removed]",
            "text/plain": [
              "<Figure size 720x360 with 2 Axes>"
            ]
          },
          "metadata": {
            "needs_background": "light"
          }
        }
      ]
    },
    {
      "cell_type": "code",
      "source": [
        "fig, axes = plt.subplots(ncols=2, figsize=(10,5))\n",
        "#=======================================================\n",
        "axes[0].set_title(\"Before Scaling\")\n",
        "sns.kdeplot(X_train['Age'],ax=axes[0])\n",
        "sns.kdeplot(X_train['EstimatedSalary'],ax=axes[0])\n",
        "axes[0].legend(['Age',\"Salary\"])\n",
        "#=======================================================\n",
        "axes[1].set_title(\"After Scaling\")\n",
        "sns.kdeplot(X_train_Scaled['Age'],ax=axes[1])\n",
        "sns.kdeplot(X_train_Scaled['EstimatedSalary'],ax=axes[1])\n",
        "axes[1].legend(['Age',\"Salary\"])\n",
        "#=======================================================\n",
        "\n",
        "plt.show()"
      ],
      "metadata": {
        "colab": {
          "base_uri": "https://localhost:8080/",
          "height": 350
        },
        "id": "C8lNRLmsUNqp",
        "outputId": "6d0e804b-bf52-46a0-edda-ad8a81bfd9f4"
      },
      "execution_count": 50,
      "outputs": [
        {
          "output_type": "display_data",
          "data": {
            "image/png": "[encoded data removed]",
            "text/plain": [
              "<Figure size 720x360 with 2 Axes>"
            ]
          },
          "metadata": {
            "needs_background": "light"
          }
        }
      ]
    },
    {
      "cell_type": "code",
      "source": [
        "fig, axes = plt.subplots(nrows=1,ncols=2, figsize=(10,5))\n",
        "#=======================================================\n",
        "axes[0].set_title(\"Before Scaling\")\n",
        "sns.kdeplot(X_train['Age'],ax=axes[0])\n",
        "axes[0].legend(['Age'])\n",
        "#=======================================================\n",
        "axes[1].set_title(\"After Scaling\")\n",
        "sns.kdeplot(X_train_Scaled['Age'],ax=axes[1])\n",
        "axes[1].legend(['Age'])\n",
        "#=======================================================\n",
        "plt.show()"
      ],
      "metadata": {
        "colab": {
          "base_uri": "https://localhost:8080/",
          "height": 350
        },
        "id": "i_XH-akcVlxu",
        "outputId": "a7097f62-5f38-435c-b0fd-eab72d299f3c"
      },
      "execution_count": 51,
      "outputs": [
        {
          "output_type": "display_data",
          "data": {
            "image/png": "[encoded data removed]",
            "text/plain": [
              "<Figure size 720x360 with 2 Axes>"
            ]
          },
          "metadata": {
            "needs_background": "light"
          }
        }
      ]
    },
    {
      "cell_type": "code",
      "source": [
        "fig, axes = plt.subplots(nrows=1,ncols=2, figsize=(10,5))\n",
        "#=======================================================\n",
        "axes[0].set_title(\"Before Scaling\")\n",
        "sns.kdeplot(X_train['EstimatedSalary'],ax=axes[0])\n",
        "axes[0].legend(['EstimatedSalary'])\n",
        "#=======================================================\n",
        "axes[1].set_title(\"After Scaling\")\n",
        "sns.kdeplot(X_train_Scaled['EstimatedSalary'],ax=axes[1])\n",
        "axes[1].legend(['EstimatedSalary'])\n",
        "#=======================================================\n",
        "plt.show()"
      ],
      "metadata": {
        "colab": {
          "base_uri": "https://localhost:8080/",
          "height": 350
        },
        "id": "mFYCb_alVENO",
        "outputId": "2a49d74b-9b02-4061-99e7-2271955e5344"
      },
      "execution_count": 52,
      "outputs": [
        {
          "output_type": "display_data",
          "data": {
            "image/png": "[encoded data removed]",
            "text/plain": [
              "<Figure size 720x360 with 2 Axes>"
            ]
          },
          "metadata": {
            "needs_background": "light"
          }
        }
      ]
    },
    {
      "cell_type": "markdown",
      "source": [
        "Why should I Scale the values ? "
      ],
      "metadata": {
        "id": "HRwHe8yoUh2E"
      }
    },
    {
      "cell_type": "markdown",
      "source": [
        "### Impact of Scaling on Logistic Regression "
      ],
      "metadata": {
        "id": "WuMH7cyVVwub"
      }
    },
    {
      "cell_type": "code",
      "source": [
        "from sklearn.linear_model import LogisticRegression"
      ],
      "metadata": {
        "id": "o9XY4J4TV2i1"
      },
      "execution_count": 54,
      "outputs": []
    },
    {
      "cell_type": "code",
      "source": [
        "Lr= LogisticRegression()\n",
        "Scaled_Lr= LogisticRegression()"
      ],
      "metadata": {
        "id": "YNa4vJRuUuf8"
      },
      "execution_count": 55,
      "outputs": []
    },
    {
      "cell_type": "code",
      "source": [
        "Lr.fit(X_train,y_train)\n",
        "Scaled_Lr.fit(X_train_Scaled,y_train)"
      ],
      "metadata": {
        "colab": {
          "base_uri": "https://localhost:8080/"
        },
        "id": "ZVIhsC_NU47J",
        "outputId": "86f7d313-d73f-4139-868c-699bf600874e"
      },
      "execution_count": 57,
      "outputs": [
        {
          "output_type": "execute_result",
          "data": {
            "text/plain": [
              "LogisticRegression()"
            ]
          },
          "metadata": {},
          "execution_count": 57
        }
      ]
    },
    {
      "cell_type": "code",
      "source": [
        "y_pred= Lr.predict(X_test)\n",
        "Scaled_y_pred= Scaled_Lr.predict(X_test_Scaled)"
      ],
      "metadata": {
        "id": "hHF0NW4kVBGl"
      },
      "execution_count": 58,
      "outputs": []
    },
    {
      "cell_type": "code",
      "source": [
        "from sklearn.metrics import accuracy_score"
      ],
      "metadata": {
        "id": "f8MfSZ1LVVYm"
      },
      "execution_count": 59,
      "outputs": []
    },
    {
      "cell_type": "code",
      "source": [
        "accuracy_score(y_test,y_pred)"
      ],
      "metadata": {
        "colab": {
          "base_uri": "https://localhost:8080/"
        },
        "id": "AI6ptncoVdhF",
        "outputId": "379dc14b-956c-4550-8c8d-92b042a7fbd0"
      },
      "execution_count": 60,
      "outputs": [
        {
          "output_type": "execute_result",
          "data": {
            "text/plain": [
              "0.6583333333333333"
            ]
          },
          "metadata": {},
          "execution_count": 60
        }
      ]
    },
    {
      "cell_type": "code",
      "source": [
        "accuracy_score(y_test,Scaled_y_pred)"
      ],
      "metadata": {
        "colab": {
          "base_uri": "https://localhost:8080/"
        },
        "id": "u26zTiMRVi-X",
        "outputId": "a35f22a8-a419-4446-e685-ecc3e54b9a2c"
      },
      "execution_count": 61,
      "outputs": [
        {
          "output_type": "execute_result",
          "data": {
            "text/plain": [
              "0.8666666666666667"
            ]
          },
          "metadata": {},
          "execution_count": 61
        }
      ]
    },
    {
      "cell_type": "markdown",
      "source": [
        "### Impact of Scaling on DecesionTree "
      ],
      "metadata": {
        "id": "QCsCbhXyV4T7"
      }
    },
    {
      "cell_type": "code",
      "source": [
        "from sklearn.tree import DecisionTreeClassifier"
      ],
      "metadata": {
        "id": "fjURmNkyVsN8"
      },
      "execution_count": 62,
      "outputs": []
    },
    {
      "cell_type": "code",
      "source": [
        "DTC= DecisionTreeClassifier()\n",
        "Scaled_DTC= DecisionTreeClassifier()"
      ],
      "metadata": {
        "id": "kBNJ3VOCWAb9"
      },
      "execution_count": 63,
      "outputs": []
    },
    {
      "cell_type": "code",
      "source": [
        "DTC.fit(X_train,y_train)\n",
        "Scaled_DTC.fit(X_train_Scaled,y_train)"
      ],
      "metadata": {
        "colab": {
          "base_uri": "https://localhost:8080/"
        },
        "id": "squm74kyWGGg",
        "outputId": "37355a66-c81f-4b80-88f4-acbd3d40cb12"
      },
      "execution_count": 64,
      "outputs": [
        {
          "output_type": "execute_result",
          "data": {
            "text/plain": [
              "DecisionTreeClassifier()"
            ]
          },
          "metadata": {},
          "execution_count": 64
        }
      ]
    },
    {
      "cell_type": "code",
      "source": [
        "y_pred= DTC.predict(X_test)\n",
        "Scaled_y_pred= Scaled_DTC.predict(X_test_Scaled)"
      ],
      "metadata": {
        "id": "s5ySyVyfWKRp"
      },
      "execution_count": 65,
      "outputs": []
    },
    {
      "cell_type": "code",
      "source": [
        "accuracy_score(y_test,y_pred)"
      ],
      "metadata": {
        "colab": {
          "base_uri": "https://localhost:8080/"
        },
        "id": "cv-xlRMyWQTi",
        "outputId": "f6dbd73c-4c5a-46ec-f474-91591f89af23"
      },
      "execution_count": 66,
      "outputs": [
        {
          "output_type": "execute_result",
          "data": {
            "text/plain": [
              "0.875"
            ]
          },
          "metadata": {},
          "execution_count": 66
        }
      ]
    },
    {
      "cell_type": "code",
      "source": [
        "accuracy_score(y_test,Scaled_y_pred)"
      ],
      "metadata": {
        "colab": {
          "base_uri": "https://localhost:8080/"
        },
        "id": "Y3kFBmxaWSZg",
        "outputId": "542869dd-0919-4d62-f8e9-7eec91fa9370"
      },
      "execution_count": 67,
      "outputs": [
        {
          "output_type": "execute_result",
          "data": {
            "text/plain": [
              "0.8666666666666667"
            ]
          },
          "metadata": {},
          "execution_count": 67
        }
      ]
    },
    {
      "cell_type": "markdown",
      "source": [
        "What algorithms need feature scaling, beside from SVM?"
      ],
      "metadata": {
        "id": "zqe5dlxIXO8h"
      }
    },
    {
      "cell_type": "markdown",
      "source": [
        "https://stats.stackexchange.com/questions/244507/what-algorithms-need-feature-scaling-beside-from-svm\n",
        "<br>\n",
        "https://www.dataschool.io/comparing-supervised-learning-algorithms/\n"
      ],
      "metadata": {
        "id": "KAgy1BGaXRHG"
      }
    },
    {
      "cell_type": "markdown",
      "source": [
        "![image.png](data:image/png;base64,iVBORw0KGgoAAAANSUhEUgAAAXEAAAEOCAYAAAB/8yewAAAVO0lEQVR4nO3dTY6kOBOAYfJTbZHmEqU6QB2uz9DHmuVIc4Gc3NQdOEB/ixHTtNs/YTuMI+B9pFZXViZgjIkyhnQ8fvz48WMBALj0v9kFAAC0e/vzzz9nlwEA0OixbZvJ4ZS//vrrl9d//PHH8vHxMak0ONPz+eRYG8RxsYnhFABwjCAOAI4RxAHAMYI4ADhGEAcAxwjiAOAYQdy4dV1nFwEN1nX97R/siB0Pr8eIIG7Yuq7Ltm1uG9fdbdv2yz9Px/Hbt2+qn7PI0/HIIYgD+EVtYPYayL39YY359u0bQRwYxeNwSmtA9hrIPdvrnCBu1D6UsizX6DHcUTicYl1vIPYYyL2eW8e6Jogb5q0XB9++f/8+dXnIHeuaIG7Q3gv3fGMMPrUGYs8B3Ou5tdc5QRwYJBwT9zCksiz1AdlzAN95OTah79+/MxUt7GHKU5s4LjbREwcAxwjiAOAYQRwAHHsLx54BAH7QEwcAxwjiAOAYQRwAHHv8/fffJp8TBwCUmf2yT+j5fC6fn5+zi4ETPB6P5ccPF83yVl6v1/L+/j67GAgwnAIAjhHEAcAxgjgAOEYQBwDH3mYXAIBfj8cj+ntuTP+sG2ld1H5+RxAH0G1k0OZppZ9idUEQB2BWqqfvgfYfnlRdEMQBDBUGnzC4pd4//n7vgYZDDqnXuXWFZSiVL/zcsRzh69h6U7/LDZ/k9ivsjXNjE8Awx2CUC0ix94+BqrZXm1pf+LtS+VL7FAZmybKpPwK59Uvqgp44gG7S3mxIGjhHO/4xKQk/0zJskgvk3NgEcLpS4NHoofaKrfu4zdanQ2YjiAMYTjLOPKsMsSEWT4GcMXEAp3k8Hmq97db1HMtw/PnMwK15xaEaxNd11VwdAOeOvdzcTbpUcM89hdIy7h6up1Q+TS1lTy1/pDacQgAH7qflRmDv+7knNUpDJi3bl25LUpaackiXV+mJr+u6bNumsSoAuKRRN21VeuIEcADIiz19ozF0w9MpAHCSEePtPJ0CAI4RxAHAsUsMp4ST0cTeGz1VZm4bXr8JZsmoeastHbvSjS/az5xzqTTpltb6j2rWrRrEucH5k7dvfXkRTjx0pXouzYCH60nNdFjTrt33xMN5F2ac1KWpNQFch2Z84emURqU5fWvnHk5N4BP7gyKdYzhXPsS1zCUdW752MqczjmXN3NSp7Yx4vE1ju9L3JeVtnTe8pm5ywyulOhhxTt/uxmZpxjTp/MKpaStz3yYrzTvcOk8xfhU7dqXj2TIntMVjmdpOy7zZZ2y35v1SeXPrKr23/76nbiR1ULMPUq6DeG4eBInZwy6l9+l9/24fMtPuzWjXtfaxzAUlze20OmO70m3EAnZsXbG40fOHTVK+mh6+1C2HU+CXlT9sXq+MZpVb2gPtcezp1gbEmt7yCD2dkksEca8nFPyy8sekltWeuvYVVThUkmPhvlPPtt0Op4SXTC1jWgR/7FrbQu8leI3YOH+sPBJnlrtmu7n3Jb35mpvTM3vcsd+3lsdtEG91PBFyNyZ7xl25GWmH9HhKnxrQaB8jpfZjVrlL2615X9qbj62r9j1NNfvQwu1wiuRES32u59JOur5cGXpf31HPTSPttlLTPlqPZc8xb6kHrW1pn2/h+9rnbst7Lcd45HDS7Xri9I5xBfxh92N0zHHbE28Vu/vMCQHr6Hz4NTrm3C6ILwtBG/6c9XQHxhh5fG43nAIAV/L2fD5nl0GMS8r74FgDMm8fHx+zyyDyfD65ZLyJUY9ioc/r9Vre399nFwMBhlMAwDGCOAA4RhAHAMcI4gDgmOsgLpm8XzKZTuuEOzjPcR7x8N/xM7nloY9zZz61L/us6/rfz7MTJueyqkiXgT01X3jheJ5j/zYidT+PShBf1/WXwB2+PlOsAcUaWkjyGQCwRmU4ZXbPe0cQvrdwCC12SZ+abjQ2PFNaF/4VZtQJz8FU3Zbeg8xl5k7R6GnTG7ctdaJLr7yOv0v9LHkNuVxdUs861IP4jKEU/orfQ+8J3ro8gaVMowNEPbdRDeKzArg0cwa9caTQERgndwV1fI9zro3q0ykzxsbDrB8EYLSgzYwjzZrDudtG7emU4//LMu9mZymQxyZob/kMrotgMk7NlTNkVIK4ladTdgTya5Le2Dx+Xpqbk8v6MXJ1S73rcP10iuQyTZI09szEsmhTmyhZKxk1bUCuN1E12rj+2j0A3B1BHAAcI4gDgGMEcQBwzFWi5NfrNbsIOAnH2p6vr6/ZRUDEY9s2F7eHn8/n8vn5ObsYOAHPD9tEomSbGE4BAMcI4gDgGEEcABwjiAOAYwRxAM1GJUqevbwnBHEAXbQDJk8n1SGIA+jCjJ9zuZ7FEIAP0ilna/Kd7j/v6y6tN7X91vesIIgD6Jabw39kQmRJkonWZM1eEjkznALALe2g6nHuc3riAFRYznHbkqzZS+YhgjiAy2tN1sxwCoBb8fCkyrF8ubJa34+dWk/cQqZ7APPFhiFahyU0/ii0DpncajhlXddfAnf4GsA1SZMjSwNgbFy9ZRs12/d4M/NIZTiFgA0Ac6je2NyHVAjqAFpZfsrFItUbm9u2Ldu2/TI+DgC1COByPJ0CAI6pBHF63gAwh8qYeDiEctaYeG7cjDE1OQ91lfvGnQce6tiq1robUefHSbesHE+1G5vWbmZaqWAPvNSVZHIjqzyU8WpG1rmlQM6YOAA4dtkgHvtq7ePxiF6W77+vee+4ztz2w3KUtpMre095Jfsi/Vxq/RZQx+fSbuep17F1lM7JVJlSy0rKfGRlioHbTICVmie4Zz7h0uVUy3ZSjai3vNKy1+yzlcvJHXU8h1Y7r92W5PWuZhntMo922Z54qOVEKC3T+750mdaTeMTXiWcGlFhvijqeb8S51brc6HFwi27TE88pXbqdsR2N9VxhMp8caS9Xw13rWMPoHmvP+ke3mxkI4kv6ZItdZo3YjuZ6coGuZijIutTTAdTxfCP3ueeczB0Pz8fpNsMpUqlGof2XWms7uZtDPeu9Aup4vpHn06j69nYc3ffEU3eNpaSXx713orW203o5L73U9zQkEPbGqeP5Wo+B9PxqPSf3z8XKVnNMLXIdxKWXvKVL7pb1tNxgabkJprWemm30fm4EjTJRx/pm1530PO+5ISodbp2F4RQDrP+lvwLqeD6OwRiue+JXceXLayuo4/mudAys9MKXhSBuhpUGcWXU8XxXOQaW9oPhFABw7O35fM4ug9jr9ZpdBJyEY23P19fX7CIg4rFtm53rgozn87l8fn7OLgZOYGm8ET+9Xq/l/f19djEQYDgFABwjiAOAYwRxAHCMIA4AjhHEATQbNcHV7OU9IYgD6DJihk+eTpIjiAPo4mGmvyvja/cAhpPOmdKS//I4NW3L9lvfs4IgDqBbKtPSstQnGK8hSSo9OvH1bAynAHBLO6i2zoU+Ez1xACpyvfHZrpz4miAO4PKkPWyPia8ZTgGgxsOTKldLfK0exNd11V4lAEdiuS4fj8d//2p6s+GyreVJbb/1PUtUh1MI4MC9aCd8jo2r9yZQLm3f483MI7We+Lquy7ZtWqsDAAgwJg7AFA/j6paoBHF64QA0eRjGsEJ1OGUfE2dsHADOoXJj89gLp1cOAOdxPSY+YtysdZ13GMOzsI+5x81Gly9cf++jbzXbujNL5+S+TkvHRz2Ie++FS8fiwoN4hzG82fu4P3q2/zv7RIp9e2//1+uO7Wm0kXVo6ear65447iP2ZQtLJxIwy6WDeOnSO3ZpJLlkbl0uVcbYulrLXbuemvek+3gsy+ggW5pDesT+p/5vXXdPezqzrmO022/qdWwd0uMTLpNaVlLmIyudiMtOgBX23I6vw59r11GarS237dLne8rdsp6a92r2MbfOM4zc/9a5s0e1J0t1rXHeSbcleb2rWUa7zKNduicuUTuPw4httKy31FB71zVynWfQOq69+yH5+ngvT3Xds4xkudHj4BZdtieuYdZ8wlp/8VPrucIcyhIW999qb07T6H3sWX/uCsorgnhBzbDIiG2OWk9uv2bsc6uaYY2jGftfKtNVjGwvPXWYO5aW23jJ7YdTSmPio7fRumztOnM3kXrWe5bYTSRpgK29aaZJ6/h5NXL/R9Wht2PjvieeumssvWTO3WEuXVrnbqK0XpJrlLtmPTXvSdc/Ss02c3U1cjil5/iNaE9na93/UnuWrCNn/1ysbDXtwSLXQbznJof0sqr1c9ITrfYGZc3lYOsNu9F106Om3Lmbir37r7HumnXMqGuJ2e1OWocjYoWVocZbDqdY/8ua4rXcwLLQfkdx3RNv5eny9MhruYFluVb7tdILX5abBvFl8duAvJYbWJbrtF9L+3HL4RQAuIq35/M5uwxir9drdhFwEo61PV9fX7OLgIjHtm12rgsyns/n8vn5ObsYOIGl8Ub89Hq9lvf399nFQIDhFABwjCAOAI4RxAHAMYI4ADjmOoj3Tq6j+Q2yx+P3zCF8Q01frm7PngJ15HH20nbuPsGXBWpf9lnX9ZfXZyVM7nmSQfsJCMmUqGgnzeIyysht56bDtY42PpfqNzZnZLrfv8pLI7q22DHm2NvAcZhLJYiv6zolgEul5mvYG14px15s2VFlyb1OleMq81G0yO1va51J2kv4uudYhesLf64pk9Xjf+c2OtqQ4ZSzA3quJ9BzCV67bGpu896ylP7IzBxisKq1ziT12dreUu+VerKSP/CpbZxl1DmIMpUgHgZtSz1zSWM5NkDtMfbj+kpzFo8qwx3V1EPr/Ne16x51bDjm93aZWQxLPYFW2nfZW9eXWu5K03tqa6mz0fV55ac2GBufQ+URw/DJFEuOl6wtjeu4bG/j7ClLrhzH3185SMTkHnHL1XWuzkbVZ29bBGLUhlNmjonvSidd7j1JL0Kzl5EaP5dsw8IY6NlKN6BzYs93S8efe424OrTsjh2J2dSGUyyNgYeXw8c79zUNrPbSunRjs7UsMy//LanZ11xdj6xP6bpjxz8V8L0d45r6Rj/XY+KpxhAbbij9nFqftMG1fM7KzTdPauqh9liX3utpR73raGnrZ7Barjtx/bV7ALg71z3xK7H+ZQ0ANhHEjSB4A2jBcAoAOEaiZJjEsbaHRMk2kSgZ5tzl2XdvSJRsE8MpAOAYQRwAHCOIA4BjBHEAcMz1c+KluUp61y2dXImbcOOVJi/bP3PWxFb4lzQRBMZxn9knbChajUd7zpQanABxpTppmeEQ/ajruYbk2JyZ2YeJ6YFzcc7NNWRM3Mq0tLvH4/HfP+l7sdcan0uVI/a50u9q96n0nndhPeX2P/X73HFDuyu3u9ncD6eU1CSV7U30WvqcJJlDqlcjLbfG/lqVS7cWvq6pw5rjhrhcb5z6HGtIUghLiZJrjB4H72m4Ixq9txOpt7wzjhswmuunU6R6L+EsZiZpSUNncT+s4DK/H2Pjc9wiiGs/rWKhobZm+rG2H1ZQD/DqUomSl6UcmFqeJbYe7KT7ZH0/rKCe2sVyh2Is94mSwwaTuskVe186vKD9OYlcIGndJ+/DKdIbm8fPS/bRe71YE6tP6ncc18MpGjciexO9jkhoK/msxnCKJ9JgnPp87eua7d6ZRntHH+ZOAQDHCOIA4BhBHAAcI4gDgGMkSoZJHGt7SJRsE4mSYQ7PadtEomSbGE4BAMcI4gDgGEEcABwjiAOAY66/dl87l0bvtkbfbDtzf7whUbJNXieNuxK1HJuhsybEuloDml1uy3VXKhfT7M5BXc+lNhXtzmtWHwBtSAYx1y3GxFuTF+cSu9auUytJbE1C39qEyamkwF6S3JIo2S4vbcgj1TFxi73w1uTF4c8961wW2bhtbFs1CXx7EybHelSWktySKNmuXG+c+hzL9Y3NZYmf2Ll5pXOfzX2mpgfRM5dyT+NuXfas8vXq3fYZ9QOcTS2Iz+qFS/7C3/USTiNh8l2ysty1jWhibHwO9z3xI+lwwF1IM/yUTrw7XApfcZ9wD7e4sbm7UwAPxW5g1i53F3fcZy21Q4/o5z5RcijsjR8bVU0Dy3121hCD1jBIaT2p+ittczQSJfsQq0/qdxzXwyktSVp7kun2brt1nS3bbd1W7XrOUls3tcehpj7wU+t5AD23Gk4BgKshiAOAYwRxAHCMIA4AjpEoGSZxrO0hUbJNJEqGOVf9QpF3JEq2ieEUAHCMIA4AjhHEAcAxgjgAOOb6a/dH0pthNZ+L4YbbHCRKtolEyfOpzie+O3syrL3BaDecGY2Txp9Wk+CDejwPdT2XWrZ7kiUD90QyiLkuM5ySE+a5jL2Xel+67tjyte8dk/JyQtQ7XpEdX4efWRb5sRp1lXc3TEU7jkoQ37Zt2nBKbO7r1GV1S8LjkDShrlaiYvxEomS7cm2X+hzrVsMptZPTnzUmToOW6a2n1uU5PrDM9XDK8bI5/L30xJuRSopMJ/aQUqwfV5JzuA7iy1Ie586ZmUSZy0tbqH945XZMPBf4WnoEZwZwgrZtHJ924VUmxrtcouRQrlEd34t9rnRjMzcs0vrevl2CyO9IlOxDrD6p33HcDqfU3JSUJgyWLiMth1aiYpAo2SoSJc/H3CkA4BhBHAAcI4gDgGMEcQBwjETJMIljbQ+Jkm0iUTLM4RFLm0iUbBPDKQDgGEEcABwjiAOAYwRxAHDMdRBPzaVx9gQ8Hif88Vbmx+OR/Hf8TG556LNyDt6Z+0TJV32S4ar71YNEyfaUsmlhPPeZfZiIHsCduR5OkYpdeu+/T72OZQ1Krae07eOykrKF264td25fpZe/Lfs6W6ne9t9Jj0NpXfiXJDl1bb1Dzu1UtEejkrTWJNNtWY92wuTWhL9eEgVL5xMnUbIdubqknnUMyexzFS3zi5fW07r83sBT/7eWQ7K8lROLRMl2aQxrUs9thmT2mRHQS71xDSMu+WZeRkoyHu2vr47L+XFoZ2MNubFpjUbjiF36aZjZcFOXtcf3Uu9fzdX3byZphqs7tLMR3CZKjpEkadVoKKN6bbmyhVcaI5/KufvJdPf9Hyk3Jo42l0uUXJOkVRL0Y5+tWa62rEe1jbz18jT1B6J2PaNJb2wePy/NzWlxf6+g5vyj3tu4fjpFI0lrTYLc1I3OmvX3JOiVLNtaJzV1NoM0GKc+r3kcENdSh9Rvv1s8Jw4AV0UQBwDHCOIA4BhBHAAcI1EyTOJY20OiZJvePj4+ZpdB5Pl8kqT1Jv755x+OtVEcF3sYTgEAxwjiAOAYQRwAHHv84CtTAOAWPXEAcOz/5QE2pN0XNmcAAAAASUVORK5CYII=)"
      ],
      "metadata": {
        "id": "qt18RZpdXRLh"
      }
    },
    {
      "cell_type": "markdown",
      "source": [
        "https://towardsdatascience.com/all-about-feature-scaling-bcc0ad75cb35"
      ],
      "metadata": {
        "id": "2qyfXCocX2tJ"
      }
    },
    {
      "cell_type": "code",
      "source": [
        ""
      ],
      "metadata": {
        "id": "5S4e-Vw5WT1N"
      },
      "execution_count": null,
      "outputs": []
    }
  ]
}